{
  "nbformat": 4,
  "nbformat_minor": 0,
  "metadata": {
    "colab": {
      "provenance": []
    },
    "kernelspec": {
      "name": "python3",
      "display_name": "Python 3"
    },
    "language_info": {
      "name": "python"
    }
  },
  "cells": [
    {
      "cell_type": "markdown",
      "source": [
        "# Momento de Retroalimentación: Módulo 1 Utilización, procesamiento y visualización de grandes volúmenes de datos (Portafolio Análisis)\n",
        "\n",
        "## Isai Ambrocio - A01625101\n"
      ],
      "metadata": {
        "id": "atb6HeWDG6eU"
      }
    },
    {
      "cell_type": "markdown",
      "source": [
        "Instruciones:\n",
        "\n",
        "Entregable: Uso, procesamiento y visualización de grandes volúmenes de datos..\n",
        "\n",
        "1. Configura correctamente tu entorno de trabajo en Colab para utilizar PySpark (Preparación del ambiente de trabajo para Big Data en Colab)\n",
        "1. Una vez configurado tu ambiente de trabajo selecciona una base de datos que se caracterice por tener un gran volumen de datos.\n",
        "1. Utilizando MLlib genera un modelo inteligente de clasificación, regresión o agrupamiento con la base de datos que seleccionaste (Generación de modelos inteligentes utilizando PySpark y MLLib)\n",
        "1. Evalua el modelo generado con las herramientas de PySpark.\n",
        "1. Tomando la información de la base de datos que utilizaste  para entrenar tu modelo inteligente genera un tablero de visualización con una herramienta administrada.\n",
        "1. Documenta y explica cuál fue el proceso completo que llevaste acabo.\n",
        "1. Prueba tu modelo con un conjunto de datos y realiza algunas predicciones.\n",
        "1. Después de la entrega intermedia se te darán correcciones que puedes incluir en tu entrega final."
      ],
      "metadata": {
        "id": "WQjcOcfdHRlv"
      }
    },
    {
      "cell_type": "markdown",
      "source": [
        "> Instalación y librerias"
      ],
      "metadata": {
        "id": "krwGVLC1Hsbq"
      }
    },
    {
      "cell_type": "code",
      "execution_count": null,
      "metadata": {
        "id": "WXT1eagHGzIy"
      },
      "outputs": [],
      "source": [
        "!pip install pyspark py4j"
      ]
    },
    {
      "cell_type": "code",
      "source": [
        "import matplotlib.pyplot as plt\n",
        "import numpy as np\n",
        "import seaborn as sns\n",
        "from pyspark.ml.clustering import KMeans\n",
        "from pyspark.ml.classification import RandomForestClassifier\n",
        "from pyspark.ml.evaluation import ClusteringEvaluator, MulticlassClassificationEvaluator\n",
        "from pyspark.ml.feature import IndexToString, StringIndexer, VectorIndexer\n",
        "from pyspark.ml.regression import LinearRegression\n",
        "from pyspark.sql import SparkSession\n",
        "from pyspark.ml import Pipeline\n",
        "from sklearn.metrics import confusion_matrix"
      ],
      "metadata": {
        "id": "0fh14DGhIGa2"
      },
      "execution_count": 5,
      "outputs": []
    },
    {
      "cell_type": "markdown",
      "source": [
        "> Creamos la sesión de spark"
      ],
      "metadata": {
        "id": "QXlexy3OI5Lp"
      }
    },
    {
      "cell_type": "code",
      "source": [
        "spark = SparkSession.builder.appName(\"tec2023\").getOrCreate()"
      ],
      "metadata": {
        "id": "s5GzaqGDIOm_"
      },
      "execution_count": 17,
      "outputs": []
    },
    {
      "cell_type": "markdown",
      "source": [
        "> ### Regresión Lineal"
      ],
      "metadata": {
        "id": "OqSZjBWyIc2X"
      }
    },
    {
      "cell_type": "code",
      "source": [
        "entrenamiento = spark.read.format(\"libsvm\")\\\n",
        "    .load(\"/content/sample_linear_regression_data.txt\")"
      ],
      "metadata": {
        "id": "2ZtlJz1sIW2k"
      },
      "execution_count": 18,
      "outputs": []
    },
    {
      "cell_type": "code",
      "source": [
        "regresion_spark = LinearRegression(maxIter = 10,\n",
        "                                   regParam = 0.3,\n",
        "                                   elasticNetParam = 0.8)\n",
        "\n",
        "spark_model = regresion_spark.fit(entrenamiento)\n",
        "\n",
        "print(\"Coeficientfes: %s\" % str(spark_model.coefficients))\n",
        "print(\"Intercepto: %s\" % str(spark_model.intercept))"
      ],
      "metadata": {
        "colab": {
          "base_uri": "https://localhost:8080/"
        },
        "id": "Cn9RewooPP_q",
        "outputId": "384a148e-8ca5-4e45-fef1-154069d2e663"
      },
      "execution_count": 23,
      "outputs": [
        {
          "output_type": "stream",
          "name": "stdout",
          "text": [
            "Coeficientfes: [0.0,0.3229251667740594,-0.3438548034562219,1.915601702345841,0.05288058680386255,0.765962720459771,0.0,-0.15105392669186676,-0.21587930360904645,0.2202536918881343]\n",
            "Intercepto: 0.15989368442397356\n"
          ]
        }
      ]
    },
    {
      "cell_type": "code",
      "source": [
        "resumen_entrenamiento = spark_model.summary\n",
        "\n",
        "print(f\"Numero de iteraciones: {resumen_entrenamiento.totalIterations}\")\n",
        "print(f\"Objective History: {resumen_entrenamiento.objectiveHistory}\")"
      ],
      "metadata": {
        "colab": {
          "base_uri": "https://localhost:8080/"
        },
        "id": "PskpfVM5X4Uy",
        "outputId": "ace40817-baa0-4527-ce1a-594d6285001e"
      },
      "execution_count": 25,
      "outputs": [
        {
          "output_type": "stream",
          "name": "stdout",
          "text": [
            "Numero de iteraciones: 6\n",
            "Objective History: [0.49999999999999994, 0.4967620357443381, 0.49363616643404634, 0.4936351537897608, 0.4936351214177871, 0.49363512062528014, 0.4936351206216114]\n"
          ]
        }
      ]
    },
    {
      "cell_type": "code",
      "source": [
        "resumen_entrenamiento.residuals.show()\n",
        "\n",
        "print(\"RMSE: %f\" % resumen_entrenamiento.rootMeanSquaredError)\n",
        "print(\"R2: %f\" % resumen_entrenamiento.r2)"
      ],
      "metadata": {
        "colab": {
          "base_uri": "https://localhost:8080/"
        },
        "id": "_CvyTNM8PTmg",
        "outputId": "ba1c02d1-4d6e-45c5-87fc-adc324793929"
      },
      "execution_count": 26,
      "outputs": [
        {
          "output_type": "stream",
          "name": "stdout",
          "text": [
            "+--------------------+\n",
            "|           residuals|\n",
            "+--------------------+\n",
            "|  -9.889232683103197|\n",
            "|  0.5533794340053553|\n",
            "|  -5.204019455758822|\n",
            "| -20.566686715507508|\n",
            "|    -9.4497405180564|\n",
            "|  -6.909112502719487|\n",
            "|  -10.00431602969873|\n",
            "|  2.0623978070504845|\n",
            "|  3.1117508432954772|\n",
            "|  -15.89360822941938|\n",
            "|  -5.036284254673026|\n",
            "|  6.4832158769943335|\n",
            "|  12.429497299109002|\n",
            "|  -20.32003219007654|\n",
            "|    -2.0049838218725|\n",
            "| -17.867901734183793|\n",
            "|   7.646455887420495|\n",
            "| -2.2653482182417406|\n",
            "|-0.10308920436195645|\n",
            "|  -1.380034070385301|\n",
            "+--------------------+\n",
            "only showing top 20 rows\n",
            "\n",
            "RMSE: 10.189077\n",
            "R2: 0.022861\n"
          ]
        }
      ]
    },
    {
      "cell_type": "markdown",
      "source": [
        "> Como podemos observar, los datos de entrenamiento en nuestro modelo tienen un pésimo comportamiento, ya que el valor de $R^2$ es de: 0.022861\n",
        "Asimismo, `RMSE` presenta un valor alto(10.189077).\n",
        "\n",
        "> Dada esta situación, es necesario explorar otros enfoques o mejorar la calidad de los datos para lograr predicciones más precisas, ya que el modelo lineal actual no es adecuado para este propósito."
      ],
      "metadata": {
        "id": "CwbYOrWTQKgY"
      }
    },
    {
      "cell_type": "code",
      "source": [
        "residuos = resumen_entrenamiento.residuals.select(\"residuals\")\\\n",
        "                .rdd.map(lambda row: row.residuals).collect()\n",
        "\n",
        "plt.figure(figsize = (12, 8))\n",
        "plt.hist(residuos, bins = 30, color = \"pink\", edgecolor = \"black\")\n",
        "plt.title(\"Histograma de Residuos\")\n",
        "plt.xlabel(\"Residuos\")\n",
        "plt.ylabel(\"Frecuencia\")\n",
        "plt.grid(alpha = 0.5)\n",
        "plt.show()"
      ],
      "metadata": {
        "colab": {
          "base_uri": "https://localhost:8080/",
          "height": 521
        },
        "id": "Lx8KU7PDPoUZ",
        "outputId": "a5fb9ab9-e317-4477-c940-0332cf6e9536"
      },
      "execution_count": 36,
      "outputs": [
        {
          "output_type": "display_data",
          "data": {
            "text/plain": [
              "<Figure size 1200x800 with 1 Axes>"
            ],
            "image/png": "[encoded data removed]"
          },
          "metadata": {}
        }
      ]
    },
    {
      "cell_type": "markdown",
      "source": [
        "Aquí podemos apreciar por medio del histograma que los valores siguen una distribución normal, lo cual es un buen indicador en esta etapa inicial.\n"
      ],
      "metadata": {
        "id": "2_kN1a-uaeNi"
      }
    },
    {
      "cell_type": "markdown",
      "source": [
        "> ### Clasificador"
      ],
      "metadata": {
        "id": "pzD6Ys72bkiB"
      }
    },
    {
      "cell_type": "code",
      "source": [
        "datos = spark.read.format(\"libsvm\").load(\"/content/sample_libsvm_data.txt\")"
      ],
      "metadata": {
        "id": "4B927a5Nbu-m"
      },
      "execution_count": 38,
      "outputs": []
    },
    {
      "cell_type": "code",
      "source": [
        "etiqueta_index = StringIndexer(inputCol = \"label\",\n",
        "                               outputCol = \"indexedLabel\").fit(datos)\n",
        "\n",
        "\n",
        "caracteristicas_index = VectorIndexer(inputCol = \"features\",\n",
        "                                      outputCol = \"indexedFeatures\",\n",
        "                                      maxCategories = 4 ).fit(datos)"
      ],
      "metadata": {
        "id": "FVsKK5D4cR74"
      },
      "execution_count": 41,
      "outputs": []
    },
    {
      "cell_type": "code",
      "source": [
        "# Split the data into training and test sets (30% held out for testing)\n",
        "(trainingData, testData) = datos.randomSplit([0.7, 0.3])\n",
        "\n",
        "rnd_forest = RandomForestClassifier(labelCol = \"indexedLabel\",\n",
        "                                    featuresCol = \"indexedFeatures\",\n",
        "                                    numTrees = 10)\n",
        "\n",
        "convertidor_etiquetas = IndexToString(inputCol = \"prediction\",\n",
        "                                      outputCol = \"predictedLabel\",\n",
        "                                      labels = etiqueta_index.labels)"
      ],
      "metadata": {
        "id": "Wzs18h08dqQh"
      },
      "execution_count": 42,
      "outputs": []
    },
    {
      "cell_type": "code",
      "source": [
        "pipeline = Pipeline(stages=[etiqueta_index,\n",
        "                            caracteristicas_index, rnd_forest,\n",
        "                            convertidor_etiquetas])"
      ],
      "metadata": {
        "id": "ljlLi80QeQOT"
      },
      "execution_count": 43,
      "outputs": []
    },
    {
      "cell_type": "markdown",
      "source": [
        "> Modelado y predicciones"
      ],
      "metadata": {
        "id": "zqyQogerewFK"
      }
    },
    {
      "cell_type": "code",
      "source": [
        "model2 = pipeline.fit(trainingData)\n",
        "predictions = model2.transform(testData)\n",
        "predictions.select(\"predictedLabel\", \"label\", \"features\").show(5)"
      ],
      "metadata": {
        "colab": {
          "base_uri": "https://localhost:8080/"
        },
        "id": "XUDDe34Berfd",
        "outputId": "b698837d-9492-497b-8f49-a76c56deefae"
      },
      "execution_count": 46,
      "outputs": [
        {
          "output_type": "stream",
          "name": "stdout",
          "text": [
            "+--------------+-----+--------------------+\n",
            "|predictedLabel|label|            features|\n",
            "+--------------+-----+--------------------+\n",
            "|           0.0|  0.0|(692,[122,123,124...|\n",
            "|           0.0|  0.0|(692,[124,125,126...|\n",
            "|           0.0|  0.0|(692,[126,127,128...|\n",
            "|           0.0|  0.0|(692,[126,127,128...|\n",
            "|           0.0|  0.0|(692,[126,127,128...|\n",
            "+--------------+-----+--------------------+\n",
            "only showing top 5 rows\n",
            "\n"
          ]
        }
      ]
    },
    {
      "cell_type": "code",
      "source": [
        "evaluator = MulticlassClassificationEvaluator(labelCol = \"indexedLabel\",\n",
        "                                              predictionCol = \"prediction\",\n",
        "                                              metricName = \"accuracy\")\n",
        "\n",
        "accuracy = evaluator.evaluate(predictions)\n",
        "\n",
        "print(f\"Test Error: {1.0 - accuracy}\")\n",
        "\n",
        "rf_model = model2.stages[2]\n",
        "print(rf_model)"
      ],
      "metadata": {
        "colab": {
          "base_uri": "https://localhost:8080/"
        },
        "id": "PAFC8v_mbcOn",
        "outputId": "08e44ff8-5836-4ee7-feab-b9f586e9a3e5"
      },
      "execution_count": 50,
      "outputs": [
        {
          "output_type": "stream",
          "name": "stdout",
          "text": [
            "Test Error: 0.0\n",
            "RandomForestClassificationModel: uid=RandomForestClassifier_66f50779a14b, numTrees=10, numClasses=2, numFeatures=692\n"
          ]
        }
      ]
    },
    {
      "cell_type": "markdown",
      "source": [
        "> Utilizamos un modelo de clasificación y evaluamos su rendimiento con el conjunto de prueba. Sin embargo, el error que nos da es de 0, lo cual es preocupante, ya que lo más probale es que el modelo esté sobre ajustadom lo que quiere decir que hizo una memorización,\n"
      ],
      "metadata": {
        "id": "A0iyclNVgJxb"
      }
    },
    {
      "cell_type": "markdown",
      "source": [
        "> ### Matriz de confusión"
      ],
      "metadata": {
        "id": "bDI0lES6k2Xd"
      }
    },
    {
      "cell_type": "code",
      "source": [
        "y = predictions.select(\"label\").rdd.map(lambda row: row.label).collect()\n",
        "y_hat = predictions.select(\"prediction\")\\\n",
        "        .rdd.map(lambda row: row.prediction).collect()\n",
        "\n",
        "conf_matrix = confusion_matrix(y, y_hat)"
      ],
      "metadata": {
        "id": "IFWugvrtk1Za"
      },
      "execution_count": 70,
      "outputs": []
    },
    {
      "cell_type": "code",
      "source": [
        "plt.figure(figsize=(6, 4))\n",
        "\n",
        "sns.heatmap(conf_matrix, cmap = \"Blues\", annot = True)\n",
        "\n",
        "plt.xlabel('Predicción')\n",
        "plt.ylabel('Valor Real')\n",
        "plt.title('Matriz de Confusión')\n",
        "plt.show()"
      ],
      "metadata": {
        "colab": {
          "base_uri": "https://localhost:8080/",
          "height": 410
        },
        "id": "WY3D1SNeUoU5",
        "outputId": "dda042b2-e833-4ecd-fe06-77505507319d"
      },
      "execution_count": 72,
      "outputs": [
        {
          "output_type": "display_data",
          "data": {
            "text/plain": [
              "<Figure size 600x400 with 2 Axes>"
            ],
            "image/png": "[encoded data removed]"
          },
          "metadata": {}
        }
      ]
    },
    {
      "cell_type": "markdown",
      "source": [
        "> ### K-means"
      ],
      "metadata": {
        "id": "an4hjeNMlyxb"
      }
    },
    {
      "cell_type": "code",
      "source": [
        "data2 = spark.read.format(\"libsvm\").load(\"/content/sample_kmeans_data.txt\")"
      ],
      "metadata": {
        "id": "NxSlpb_al5FY"
      },
      "execution_count": 73,
      "outputs": []
    },
    {
      "cell_type": "code",
      "source": [
        "k_means = KMeans().setK(2).setSeed(1)\n",
        "model3 = k_means.fit(data2)\n",
        "prediccion = model3.transform(data2)"
      ],
      "metadata": {
        "id": "UDq0dUTil-OT"
      },
      "execution_count": 76,
      "outputs": []
    },
    {
      "cell_type": "code",
      "source": [
        "evaluador = ClusteringEvaluator()\n",
        "\n",
        "silueta = evaluador.evaluate(predictions)\n",
        "print(f\"Silueta con distancia euclidiana al cuadrado {silueta}\")\n",
        "\n",
        "centers = model3.clusterCenters()\n",
        "\n",
        "print(\"Cluster Centers: \")\n",
        "for center in centers:\n",
        "    print(center)"
      ],
      "metadata": {
        "colab": {
          "base_uri": "https://localhost:8080/"
        },
        "id": "RsyxUg6aU3qr",
        "outputId": "7f585666-072a-463a-e285-511fd859e9f3"
      },
      "execution_count": 79,
      "outputs": [
        {
          "output_type": "stream",
          "name": "stdout",
          "text": [
            "Silueta con distancia euclidiana al cuadrado 0.9997530305375207\n",
            "Cluster Centers: \n",
            "[9.1 9.1 9.1]\n",
            "[0.1 0.1 0.1]\n"
          ]
        }
      ]
    },
    {
      "cell_type": "markdown",
      "source": [
        "> El análisis del modelo de K-Means revela resultados altamente prometedores en cuanto a la calidad de la agrupación. La puntuación de silueta, calculada con distancia euclidiana al cuadrado, se sitúa en aproximadamente 0.9997.\n",
        "\n",
        "> Este valor cercano a 1 sugiere una clara y distinta separación entre los clústeres identificados por el algoritmo. La puntuación de silueta proporciona una medida cuantitativa de la cohesión intraclúster y la separación interclúster, y en este caso, el resultado apunta a una segregación robusta y bien definida.\n",
        "\n",
        "> Estos resultados fortalecen la confianza en la capacidad del modelo de K-Means para discernir patrones subyacentes en el conjunto de datos."
      ],
      "metadata": {
        "id": "VGtpiDGOsfDY"
      }
    },
    {
      "cell_type": "code",
      "source": [
        "resultado_cluster = predictions.select(\"prediction\")\\\n",
        "                    .rdd.map(lambda row: row.prediction).collect()\n",
        "\n",
        "data3 = data2.select(\"features\").rdd.map(lambda row: row.features).collect()"
      ],
      "metadata": {
        "id": "Wvmsd7fjsdz0"
      },
      "execution_count": 80,
      "outputs": []
    },
    {
      "cell_type": "code",
      "source": [
        "data_array = np.array(data3)\n",
        "resultados_cluster = np.array(resultado_cluster)"
      ],
      "metadata": {
        "id": "qavQViNUtii7"
      },
      "execution_count": 81,
      "outputs": []
    },
    {
      "cell_type": "code",
      "source": [
        "centros = model3.clusterCenters()\n",
        "\n",
        "for i, centro in enumerate(centros):\n",
        "    cluster_data = data_array[resultados_cluster == i]\n",
        "    plt.scatter(cluster_data[:, 0], cluster_data[:, 1], label=f\"Cluster {i}\")\n",
        "    plt.scatter(centro[0], centro[1], marker=\"+\", s = 200,\n",
        "                label = f\"centro {i}\")\n",
        "\n",
        "plt.title(\"K-Means Clustering\")\n",
        "plt.xlabel(\"Característica 1\")\n",
        "plt.ylabel(\"Característica 2\")\n",
        "plt.legend()\n",
        "plt.grid()\n",
        "plt.show()"
      ],
      "metadata": {
        "colab": {
          "base_uri": "https://localhost:8080/",
          "height": 472
        },
        "id": "Amw8LbV1U93o",
        "outputId": "ce11c1d9-948a-4606-8946-b052e3102dc2"
      },
      "execution_count": 95,
      "outputs": [
        {
          "output_type": "display_data",
          "data": {
            "text/plain": [
              "<Figure size 640x480 with 1 Axes>"
            ],
            "image/png": "[encoded data removed]"
          },
          "metadata": {}
        }
      ]
    },
    {
      "cell_type": "markdown",
      "source": [
        "> A través esta actividad, pude obtener nuevos conocimientos para el el manejo de grandes volúmenes de datos con Spark. Esto me ayudará a fortalecer mis conocimientos anteriores y saber cómo abordar próximos desafíos que tenga en el área de análisis de datos e inteligencia artificial."
      ],
      "metadata": {
        "id": "G7SDSlPVw-_4"
      }
    },
    {
      "cell_type": "code",
      "source": [],
      "metadata": {
        "id": "W9QJnnLdxn10"
      },
      "execution_count": null,
      "outputs": []
    }
  ]
}